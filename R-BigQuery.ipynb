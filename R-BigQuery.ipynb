{
 "cells": [
  {
   "cell_type": "raw",
   "id": "2ff615d9-9c0c-4402-92b1-767eff5e33c9",
   "metadata": {},
   "source": [
    "# Load the BigQuery R package\n",
    "library(bigrquery)\n",
    "\n",
    "# Replace with your project ID\n",
    "projectid = \"research-demos\"\n",
    "\n",
    "# Set your query\n",
    "sql <- \"SELECT  FROM `bigquery-public-data.usa_names.usa_1910_current` LIMIT 10\"\n",
    "\n",
    "# Run the query; this returns a bq_table object that you can query further\n",
    "tb <- bq_project_query(projectid, sql)\n",
    "\n",
    "# Store the first 10 rows of the data in a tibble\n",
    "sample <-bq_table_download(tb, n_max = 10)\n",
    "\n",
    "# Print the 10 rows of data\n",
    "sample"
   ]
  },
  {
   "cell_type": "code",
   "execution_count": null,
   "id": "feea682f-03eb-4d31-b629-7a04959d9b59",
   "metadata": {},
   "outputs": [],
   "source": []
  }
 ],
 "metadata": {
  "kernelspec": {
   "display_name": "R (Local)",
   "language": "R",
   "name": "local-r"
  },
  "language_info": {
   "codemirror_mode": "r",
   "file_extension": ".r",
   "mimetype": "text/x-r-source",
   "name": "R",
   "pygments_lexer": "r",
   "version": "4.2.3"
  }
 },
 "nbformat": 4,
 "nbformat_minor": 5
}
